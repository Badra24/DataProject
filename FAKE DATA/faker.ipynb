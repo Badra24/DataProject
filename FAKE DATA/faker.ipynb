{
 "cells": [
  {
   "cell_type": "code",
   "execution_count": 23,
   "metadata": {},
   "outputs": [],
   "source": [
    "from faker import Faker\n",
    "import random\n",
    "import csv\n",
    "fake = Faker('id_ID')"
   ]
  },
  {
   "cell_type": "code",
   "execution_count": 24,
   "metadata": {},
   "outputs": [
    {
     "data": {
      "text/plain": [
       "'Praba'"
      ]
     },
     "execution_count": 24,
     "metadata": {},
     "output_type": "execute_result"
    }
   ],
   "source": [
    "fake.city()\n",
    "fake.first_name_male()"
   ]
  },
  {
   "cell_type": "code",
   "execution_count": 25,
   "metadata": {},
   "outputs": [],
   "source": [
    "Faker.seed(0)\n",
    "for i in range(5):\n",
    "    fake.address()"
   ]
  },
  {
   "cell_type": "code",
   "execution_count": 26,
   "metadata": {},
   "outputs": [],
   "source": [
    "table_kota = {}\n",
    "table_kota['kota_id'] = [3171,3172,3173,3174,3175,3573,3578,3471,3273,1371,1375,6471,6472,7371,5171]"
   ]
  },
  {
   "cell_type": "code",
   "execution_count": 43,
   "metadata": {},
   "outputs": [],
   "source": [
    "n_data = 50\n",
    "table_penjual = {}\n",
    "table_penjual['penjual_id'] =  [i+1 for i in range(n_data)]\n",
    "table_penjual['kota_penjual_id'] = [random.choice(table_kota['kota_id']) for i in range(n_data)]\n",
    "table_penjual['nama_depan'] = [fake.first_name() for i in range(n_data)]\n",
    "\n",
    "# Generate unique last names\n",
    "last_names = set()\n",
    "table_penjual['nama_belakang'] = []\n",
    "for i in range(n_data):\n",
    "    last_name = fake.last_name()\n",
    "    while last_name in last_names:\n",
    "        last_name = fake.last_name()\n",
    "    last_names.add(last_name)\n",
    "    table_penjual['nama_belakang'].append(last_name)\n",
    "\n",
    "table_penjual['detail_kontak'] = [fake.phone_number() for i in range(n_data)]\n"
   ]
  },
  {
   "cell_type": "code",
   "execution_count": 50,
   "metadata": {},
   "outputs": [],
   "source": [
    "n_data = 50\n",
    "table_pembeli = {}\n",
    "table_pembeli['pembeli_id'] =  [i+1 for i in range(n_data)]\n",
    "table_pembeli['kota_pembeli_id'] = [random.choice(table_kota['kota_id']) for i in range(n_data)]\n",
    "table_pembeli['nama_depan'] = [fake.first_name() for i in range(n_data)]\n",
    "\n",
    "# Generate unique last names\n",
    "last_names = set()\n",
    "table_pembeli['nama_belakang'] = []\n",
    "for i in range(n_data):\n",
    "    last_name = fake.last_name()\n",
    "    while last_name in last_names:\n",
    "        last_name = fake.last_name()\n",
    "    last_names.add(last_name)\n",
    "    table_pembeli['nama_belakang'].append(last_name)\n",
    "\n",
    "table_pembeli['detail_kontak'] = [fake.phone_number() for i in range(n_data)]\n"
   ]
  },
  {
   "cell_type": "code",
   "execution_count": 51,
   "metadata": {},
   "outputs": [],
   "source": [
    "def simpan_csv(data_input,nama_file):\n",
    "    with open(file = f\"{nama_file}.csv\" ,mode=\"w\" ,newline='') as csv_file :\n",
    "        writer = csv.writer(csv_file)\n",
    "        writer.writerow(list(data_input.keys()))\n",
    "        len_data = len(list(data_input.items())[0][1])\n",
    "        \n",
    "        for num in range(len_data):\n",
    "            row = []\n",
    "            for key in data_input.keys():\n",
    "                row.append(data_input[key][num])\n",
    "            writer.writerow(row)"
   ]
  },
  {
   "cell_type": "code",
   "execution_count": 52,
   "metadata": {},
   "outputs": [],
   "source": [
    "simpan_csv(table_penjual,'table_penjual')\n",
    "simpan_csv(table_pembeli,'table_pembeli')"
   ]
  }
 ],
 "metadata": {
  "kernelspec": {
   "display_name": "base",
   "language": "python",
   "name": "python3"
  },
  "language_info": {
   "codemirror_mode": {
    "name": "ipython",
    "version": 3
   },
   "file_extension": ".py",
   "mimetype": "text/x-python",
   "name": "python",
   "nbconvert_exporter": "python",
   "pygments_lexer": "ipython3",
   "version": "3.10.9"
  },
  "orig_nbformat": 4
 },
 "nbformat": 4,
 "nbformat_minor": 2
}
